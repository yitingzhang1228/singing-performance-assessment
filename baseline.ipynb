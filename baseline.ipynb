{
 "cells": [
  {
   "cell_type": "markdown",
   "metadata": {},
   "source": [
    "# Singing performance assessment"
   ]
  },
  {
   "cell_type": "code",
   "execution_count": 1,
   "metadata": {},
   "outputs": [],
   "source": [
    "import numpy as np\n",
    "import pandas as pd\n",
    "import os\n",
    "from matplotlib import pyplot as plt\n",
    "%matplotlib inline"
   ]
  },
  {
   "cell_type": "markdown",
   "metadata": {},
   "source": [
    "## Create balance pairs\n",
    "\n",
    "- 256 positive pairs + 256 negative pairs\n",
    "- Trim zeros from beginning and end"
   ]
  },
  {
   "cell_type": "code",
   "execution_count": 2,
   "metadata": {},
   "outputs": [
    {
     "name": "stdout",
     "output_type": "stream",
     "text": [
      "Number of pass:  266\n",
      "Number of fail:  730\n",
      "Number of performances:  996\n",
      "Number of reference:  2542\n"
     ]
    }
   ],
   "source": [
    "# read files\n",
    "datapath = './f0data'\n",
    "per_fail = []\n",
    "per_pass = []\n",
    "ref = []\n",
    "\n",
    "for i in os.listdir(datapath):\n",
    "    if i.endswith('pass.f0s.txt'):\n",
    "        per_pass.append(datapath + '/' + i)\n",
    "    elif i.endswith('fail.f0s.txt'):\n",
    "        per_fail.append(datapath + '/' + i)\n",
    "    else:\n",
    "        ref.append(datapath + '/' + i)\n",
    "\n",
    "# file name lists\n",
    "per_pass = sorted(per_pass) # 266\n",
    "per_fail = sorted(per_fail) # 730\n",
    "ref = sorted(ref) # 2542\n",
    "\n",
    "num_pass = len(per_pass)\n",
    "num_fail = len(per_fail)\n",
    "num_per = num_pass + num_fail\n",
    "num_ref = len(ref)\n",
    "\n",
    "print(\"Number of pass: \", num_pass)\n",
    "print(\"Number of fail: \", num_fail)\n",
    "print(\"Number of performances: \", num_per)\n",
    "print(\"Number of reference: \", num_ref)"
   ]
  },
  {
   "cell_type": "code",
   "execution_count": 3,
   "metadata": {},
   "outputs": [],
   "source": [
    "# randomly choose 266 from 730 fails\n",
    "np.random.seed(1234)\n",
    "pick = np.random.choice(num_fail, num_pass, replace=False)\n",
    "pick = sorted(pick)\n",
    "\n",
    "per_fail_pick = np.array(per_fail)[pick] # 266 fail file name lists\n",
    "per_filename = np.concatenate((per_pass, per_fail_pick)) # 532 performance file name lists"
   ]
  },
  {
   "cell_type": "code",
   "execution_count": 5,
   "metadata": {},
   "outputs": [],
   "source": [
    "# performance f0 data\n",
    "# only second column f0 data\n",
    "# trim zeros from beginning and end\n",
    "pass_f0 = [np.trim_zeros(np.loadtxt(file)[:,1]) for file in per_pass]\n",
    "pass_f0 = np.array(pass_f0,dtype='object')\n",
    "fail_f0 = [np.trim_zeros(np.loadtxt(file)[:,1]) for file in per_fail_pick]\n",
    "fail_f0 = np.array(fail_f0,dtype='object')\n",
    "\n",
    "per_f0 = np.concatenate((pass_f0, fail_f0)) # 532 performance f0"
   ]
  },
  {
   "cell_type": "code",
   "execution_count": 6,
   "metadata": {},
   "outputs": [],
   "source": [
    "# create matching reference file name list\n",
    "# find 532 reference files that pair with 532 performances\n",
    "new_ref = ref.copy()\n",
    "ref_match = [] # 532 reference file name list\n",
    "\n",
    "for i in per_filename:\n",
    "    identifier = i.split('per')[0]\n",
    "    for j in new_ref:\n",
    "        if j.split('ref')[0] == identifier:\n",
    "            ref_match.append(j)\n",
    "            new_ref.remove(j)\n",
    "            break"
   ]
  },
  {
   "cell_type": "code",
   "execution_count": 7,
   "metadata": {},
   "outputs": [],
   "source": [
    "# reference f0 data\n",
    "# only second column f0 data\n",
    "# trim zeros from beginning and end\n",
    "ref_f0 = [np.trim_zeros(np.loadtxt(file)[:,1]) for file in ref_match]\n",
    "ref_f0 = np.array(ref_f0,dtype='object') # 532 performance f0"
   ]
  },
  {
   "cell_type": "markdown",
   "metadata": {},
   "source": [
    "## Train test split"
   ]
  },
  {
   "cell_type": "code",
   "execution_count": 8,
   "metadata": {},
   "outputs": [],
   "source": [
    "# create labels\n",
    "label = []\n",
    "for i in range(num_pass):\n",
    "    label.append(1)\n",
    "for i in range(num_pass):\n",
    "    label.append(0)"
   ]
  },
  {
   "cell_type": "code",
   "execution_count": 9,
   "metadata": {},
   "outputs": [],
   "source": [
    "# train test split\n",
    "num_data = num_pass * 2 # 532\n",
    "np.random.seed(1234)\n",
    "shuffle = np.random.permutation(num_data)\n",
    "num_train = int(num_data * 0.8)\n",
    "\n",
    "# training\n",
    "per_f0_train = per_f0[shuffle][:num_train] # performance midi for training\n",
    "ref_f0_train = ref_f0[shuffle][:num_train] # reference midi for training\n",
    "y_train = np.array(label)[shuffle][:num_train] # training label\n",
    "\n",
    "\n",
    "# testing\n",
    "per_f0_test = per_f0[shuffle][num_train:] # performance midi for testing\n",
    "ref_f0_test = ref_f0[shuffle][num_train:] # reference midi for testing\n",
    "y_test = np.array(label)[shuffle][num_train:] # testing label"
   ]
  },
  {
   "cell_type": "markdown",
   "metadata": {},
   "source": [
    "## Data prepocessing\n",
    "\n",
    "- Convert f0 to midi\n",
    "\n",
    "- Resample all singing and reference to same length"
   ]
  },
  {
   "cell_type": "code",
   "execution_count": 10,
   "metadata": {},
   "outputs": [
    {
     "name": "stdout",
     "output_type": "stream",
     "text": [
      "per_midi_min 43.460000618197\n",
      "per_midi_max 77.42000006728594\n",
      "ref_midi_min 53.01999941261086\n",
      "ref_midi_max 74.42000055044677\n"
     ]
    }
   ],
   "source": [
    "# convert f0 to midi (0hz stays 0 in midi)\n",
    "# https://stackoverflow.com/questions/21752989/numpy-efficiently-avoid-0s-when-taking-logmatrix\n",
    "\n",
    "def f0_to_midi(f0):\n",
    "    midi_min = float('inf')\n",
    "    midi_max = 0\n",
    "\n",
    "    midi = np.copy(f0)\n",
    "    for i, item in enumerate(f0):\n",
    "        midi[i] = 12 * np.ma.log2(item/440) + 69\n",
    "        midi[i] = midi[i].filled(0) # 532 midi\n",
    "        midi_min = np.min([midi_min, np.min(midi[i][np.nonzero(midi[i])])])\n",
    "        midi_max = np.max([midi_max, np.max(midi[i][np.nonzero(midi[i])])])\n",
    "    return midi, midi_min, midi_max\n",
    "\n",
    "per_midi_train, per_midi_min, per_midi_max = f0_to_midi(per_f0_train)\n",
    "ref_midi_train, ref_midi_min, ref_midi_max = f0_to_midi(ref_f0_train)\n",
    "print(\"per_midi_min\", per_midi_min)\n",
    "print(\"per_midi_max\", per_midi_max)\n",
    "print(\"ref_midi_min\", ref_midi_min)\n",
    "print(\"ref_midi_max\", ref_midi_max)\n",
    "    \n",
    "    \n",
    "# per_midi_min = float('inf')\n",
    "# per_midi_max = 0\n",
    "\n",
    "# per_midi_train = np.copy(per_f0_train)\n",
    "# for i, f0 in enumerate(per_f0_train):\n",
    "#     per_midi_train[i] = 12 * np.ma.log2(f0/440) + 69\n",
    "#     per_midi_train[i] = per_midi_train[i].filled(0) # 532 ref midi\n",
    "#     per_midi_min = np.min([per_midi_min, np.min(per_midi_train[i][np.nonzero(per_midi_train[i])])])\n",
    "#     per_midi_max = np.max([per_midi_max, np.max(per_midi_train[i][np.nonzero(per_midi_train[i])])])\n",
    "# print(\"per_midi_min\", per_midi_min)\n",
    "# print(\"per_midi_max\", per_midi_max)"
   ]
  },
  {
   "cell_type": "code",
   "execution_count": 11,
   "metadata": {},
   "outputs": [
    {
     "name": "stdout",
     "output_type": "stream",
     "text": [
      "average length for performances:  1647\n",
      "average length for references:  1797\n",
      "average length:  1722\n"
     ]
    }
   ],
   "source": [
    "# average lenghth of data\n",
    "length = 0\n",
    "for i,file in enumerate(per_midi_train):\n",
    "    length += len(file)\n",
    "avg_len_per = int(length/i)\n",
    "print(\"average length for performances: \", avg_len_per)\n",
    "\n",
    "length = 0\n",
    "for i,file in enumerate(ref_midi_train):\n",
    "    length += len(file)\n",
    "avg_len_ref = int(length/i)\n",
    "print(\"average length for references: \", avg_len_ref)\n",
    "\n",
    "avg_len = int((avg_len_per + avg_len_ref)/2)\n",
    "print(\"average length: \", avg_len)"
   ]
  },
  {
   "cell_type": "code",
   "execution_count": 12,
   "metadata": {},
   "outputs": [],
   "source": [
    "# resample performance and reference to average length\n",
    "def resample(midi, length):\n",
    "    midi_res = np.copy(midi)\n",
    "    for i, item in enumerate(midi):\n",
    "        xp = np.arange(len(item))\n",
    "        fp = item\n",
    "        midi_res[i] = np.interp(np.linspace(0,len(item)-1,num=length), xp, fp)\n",
    "    return midi_res\n",
    "\n",
    "per_midi_res_train = resample(per_midi_train, avg_len)\n",
    "ref_midi_res_train = resample(ref_midi_train, avg_len)\n",
    "\n",
    "# per_midi_res_train = np.copy(per_midi_train)\n",
    "# for i, item in enumerate(per_midi_train):\n",
    "#     xp = np.arange(len(item))\n",
    "#     fp = item\n",
    "#     per_midi_res_train[i] = np.interp(np.linspace(0,len(item)-1,num=avg_len), xp, fp)"
   ]
  },
  {
   "cell_type": "code",
   "execution_count": 13,
   "metadata": {},
   "outputs": [
    {
     "data": {
      "text/plain": [
       "Text(0.5, 1.0, 'example of a resmapled signal')"
      ]
     },
     "execution_count": 13,
     "metadata": {},
     "output_type": "execute_result"
    },
    {
     "data": {
      "image/png": "[encoded data removed]",
      "text/plain": [
       "<Figure size 432x288 with 1 Axes>"
      ]
     },
     "metadata": {
      "needs_background": "light"
     },
     "output_type": "display_data"
    }
   ],
   "source": [
    "# plot resample example\n",
    "plt.plot(per_midi_res_train[1])\n",
    "plt.title(\"example of a resmapled signal\")"
   ]
  },
  {
   "cell_type": "markdown",
   "metadata": {},
   "source": [
    "## Feature generation\n",
    "- Compute distance signal from singing and reference midi\n",
    "- Generate histogram from distance signal"
   ]
  },
  {
   "cell_type": "code",
   "execution_count": 14,
   "metadata": {},
   "outputs": [
    {
     "name": "stdout",
     "output_type": "stream",
     "text": [
      "-76.63777412476107\n",
      "71.3002150863858\n"
     ]
    }
   ],
   "source": [
    "# distance signal train\n",
    "distance_train = np.stack(ref_midi_res_train - per_midi_res_train)\n",
    "print(np.min(distance_train))\n",
    "print(np.max(distance_train))"
   ]
  },
  {
   "cell_type": "code",
   "execution_count": 15,
   "metadata": {},
   "outputs": [],
   "source": [
    "# histogram train\n",
    "bins = np.linspace(np.floor(np.min(distance_train)), np.ceil(np.max(distance_train)), num=150)\n",
    "histogram_train = [np.histogram(i, bins=bins, density=True)[0] for i in distance_train]"
   ]
  },
  {
   "cell_type": "markdown",
   "metadata": {},
   "source": [
    "## Process the test data\n",
    "- Convert to midi\n",
    "- resample\n",
    "- calculate distance signal\n",
    "- generate histrogram"
   ]
  },
  {
   "cell_type": "code",
   "execution_count": 16,
   "metadata": {},
   "outputs": [],
   "source": [
    "# convert to midi\n",
    "per_midi_test, _, _ = f0_to_midi(per_f0_test)\n",
    "ref_midi_test, _, _ = f0_to_midi(ref_f0_test)\n",
    "\n",
    "# resample\n",
    "per_midi_res_test = resample(per_midi_test, avg_len)\n",
    "ref_midi_res_test = resample(ref_midi_test, avg_len)\n",
    "\n",
    "\n",
    "# calculate distance signal\n",
    "distance_test = np.stack(ref_midi_res_test - per_midi_res_test)\n",
    "\n",
    "# generate histogram\n",
    "histogram_test = [np.histogram(i, bins=bins, density=True)[0] for i in distance_test]"
   ]
  },
  {
   "cell_type": "markdown",
   "metadata": {},
   "source": [
    "## Binary classifiers\n",
    "- Logistic regression CV\n",
    "- SVM\n",
    "- Decision tree\n",
    "- Random forest\n",
    "- MLP"
   ]
  },
  {
   "cell_type": "code",
   "execution_count": 31,
   "metadata": {},
   "outputs": [
    {
     "name": "stdout",
     "output_type": "stream",
     "text": [
      "Logistic Regression CV (balanced data):\n",
      "\n",
      "train accuracy:  0.7811764705882352\n",
      "\n",
      "test accuracy:  0.7570093457943925\n",
      "test f1-score macro:  0.7552779732582688\n",
      "test f1-score micro:  0.7570093457943925\n",
      "\n",
      "Confusion matrix: \n",
      " [[36 18]\n",
      " [ 8 45]]\n"
     ]
    }
   ],
   "source": [
    "# logistic regression cross validation\n",
    "from sklearn.linear_model import LogisticRegressionCV\n",
    "clf = LogisticRegressionCV(cv=5, max_iter = 100, solver = 'liblinear', random_state=0).fit(histogram_train, y_train)\n",
    "\n",
    "print(\"Logistic Regression CV (balanced data):\\n\")\n",
    "print(\"train accuracy: \", clf.score(histogram_train, y_train))\n",
    "print(\"\\ntest accuracy: \", clf.score(histogram_test, y_test))\n",
    "y_pred = clf.predict(histogram_test)\n",
    "\n",
    "from sklearn.metrics import accuracy_score, f1_score\n",
    "# accuracy_score(y_test, y_pred)\n",
    "print(\"test f1-score macro: \", f1_score(y_test, y_pred, average='macro'))\n",
    "print(\"test f1-score micro: \", f1_score(y_test, y_pred, average='micro'))\n",
    "\n",
    "from sklearn.metrics import confusion_matrix\n",
    "cm = confusion_matrix(y_test, y_pred)\n",
    "print(\"\\nConfusion matrix: \\n\", cm)"
   ]
  },
  {
   "cell_type": "code",
   "execution_count": 34,
   "metadata": {},
   "outputs": [
    {
     "name": "stdout",
     "output_type": "stream",
     "text": [
      "SVM (balanced data):\n",
      "\n",
      "train accuracy:  0.7247058823529412\n",
      "\n",
      "test accuracy:  0.7383177570093458\n",
      "test f1-score macro:  0.7355225988700566\n",
      "test f1-score micro:  0.7383177570093457\n",
      "\n",
      "Confusion matrix: \n",
      " [[34 20]\n",
      " [ 8 45]]\n"
     ]
    }
   ],
   "source": [
    "# svm linear\n",
    "from sklearn import svm\n",
    "clf = svm.SVC(kernel='linear', random_state=0).fit(histogram_train, y_train)\n",
    "\n",
    "print(\"SVM (balanced data):\\n\")\n",
    "print(\"train accuracy: \", clf.score(histogram_train, y_train))\n",
    "print(\"\\ntest accuracy: \", clf.score(histogram_test, y_test))\n",
    "y_pred = clf.predict(histogram_test)\n",
    "\n",
    "from sklearn.metrics import accuracy_score, f1_score\n",
    "# accuracy_score(y_test, y_pred)\n",
    "print(\"test f1-score macro: \", f1_score(y_test, y_pred, average='macro'))\n",
    "print(\"test f1-score micro: \", f1_score(y_test, y_pred, average='micro'))\n",
    "\n",
    "from sklearn.metrics import confusion_matrix\n",
    "cm = confusion_matrix(y_test, y_pred)\n",
    "print(\"\\nConfusion matrix: \\n\", cm)"
   ]
  },
  {
   "cell_type": "code",
   "execution_count": 41,
   "metadata": {},
   "outputs": [
    {
     "name": "stdout",
     "output_type": "stream",
     "text": [
      "Decision tree (balanced data):\n",
      "\n",
      "train accuracy:  1.0\n",
      "\n",
      "test accuracy:  0.6915887850467289\n",
      "test f1-score macro:  0.6876603272888102\n",
      "test f1-score micro:  0.6915887850467289\n",
      "\n",
      "Confusion matrix: \n",
      " [[31 23]\n",
      " [10 43]]\n"
     ]
    }
   ],
   "source": [
    "# decision tree\n",
    "from sklearn import tree\n",
    "clf = tree.DecisionTreeClassifier(random_state=1).fit(histogram_train, y_train)\n",
    "\n",
    "print(\"Decision tree (balanced data):\\n\")\n",
    "print(\"train accuracy: \", clf.score(histogram_train, y_train))\n",
    "print(\"\\ntest accuracy: \", clf.score(histogram_test, y_test))\n",
    "y_pred = clf.predict(histogram_test)\n",
    "\n",
    "from sklearn.metrics import accuracy_score, f1_score\n",
    "# accuracy_score(y_test, y_pred)\n",
    "print(\"test f1-score macro: \", f1_score(y_test, y_pred, average='macro'))\n",
    "print(\"test f1-score micro: \", f1_score(y_test, y_pred, average='micro'))\n",
    "\n",
    "from sklearn.metrics import confusion_matrix\n",
    "cm = confusion_matrix(y_test, y_pred)\n",
    "print(\"\\nConfusion matrix: \\n\", cm)"
   ]
  },
  {
   "cell_type": "code",
   "execution_count": 59,
   "metadata": {},
   "outputs": [
    {
     "name": "stdout",
     "output_type": "stream",
     "text": [
      "Random forest (balanced data):\n",
      "\n",
      "train accuracy:  1.0\n",
      "\n",
      "test accuracy:  0.7850467289719626\n",
      "test f1-score macro:  0.7838383838383838\n",
      "test f1-score micro:  0.7850467289719625\n",
      "\n",
      "Confusion matrix: \n",
      " [[38 16]\n",
      " [ 7 46]]\n"
     ]
    }
   ],
   "source": [
    "# random forest\n",
    "from sklearn.ensemble import RandomForestClassifier\n",
    "clf = RandomForestClassifier(n_estimators=50, random_state=0).fit(histogram_train, y_train)\n",
    "\n",
    "print(\"Random forest (balanced data):\\n\")\n",
    "print(\"train accuracy: \", clf.score(histogram_train, y_train))\n",
    "print(\"\\ntest accuracy: \", clf.score(histogram_test, y_test))\n",
    "y_pred = clf.predict(histogram_test)\n",
    "\n",
    "from sklearn.metrics import accuracy_score, f1_score\n",
    "# accuracy_score(y_test, y_pred)\n",
    "print(\"test f1-score macro: \", f1_score(y_test, y_pred, average='macro'))\n",
    "print(\"test f1-score micro: \", f1_score(y_test, y_pred, average='micro'))\n",
    "\n",
    "from sklearn.metrics import confusion_matrix\n",
    "cm = confusion_matrix(y_test, y_pred)\n",
    "print(\"\\nConfusion matrix: \\n\", cm)"
   ]
  },
  {
   "cell_type": "code",
   "execution_count": 72,
   "metadata": {},
   "outputs": [
    {
     "name": "stdout",
     "output_type": "stream",
     "text": [
      "MLP (balanced data):\n",
      "\n",
      "train accuracy:  0.7623529411764706\n",
      "\n",
      "test accuracy:  0.7570093457943925\n",
      "test f1-score macro:  0.7559649122807017\n",
      "test f1-score micro:  0.7570093457943925\n",
      "\n",
      "Confusion matrix: \n",
      " [[37 17]\n",
      " [ 9 44]]\n"
     ]
    }
   ],
   "source": [
    "# MLP\n",
    "from sklearn.neural_network import MLPClassifier\n",
    "clf = MLPClassifier(solver='lbfgs', alpha=1e-3,\n",
    "                    hidden_layer_sizes=(5,2), random_state=2).fit(histogram_train, y_train)\n",
    "\n",
    "print(\"MLP (balanced data):\\n\")\n",
    "print(\"train accuracy: \", clf.score(histogram_train, y_train))\n",
    "print(\"\\ntest accuracy: \", clf.score(histogram_test, y_test))\n",
    "y_pred = clf.predict(histogram_test)\n",
    "\n",
    "from sklearn.metrics import accuracy_score, f1_score\n",
    "# accuracy_score(y_test, y_pred)\n",
    "print(\"test f1-score macro: \", f1_score(y_test, y_pred, average='macro'))\n",
    "print(\"test f1-score micro: \", f1_score(y_test, y_pred, average='micro'))\n",
    "\n",
    "from sklearn.metrics import confusion_matrix\n",
    "cm = confusion_matrix(y_test, y_pred)\n",
    "print(\"\\nConfusion matrix: \\n\", cm)"
   ]
  },
  {
   "cell_type": "markdown",
   "metadata": {},
   "source": [
    "## Baseline method results\n",
    "\n",
    "| Classifier | Train accuracy | Test accuracy |\n",
    "| :-----:| :----: | :----: |\n",
    "| Losigtic Regression | 0.781 | 0.757 |\n",
    "| SVM linear | 0.724 | 0.738 |\n",
    "| Decision Tree | 1.0 | 0.691 |\n",
    "| Random Forest | 1.0 | 0.785 |\n",
    "| Multi-Layer Perceptron | 0.762 | 0.757 |"
   ]
  },
  {
   "cell_type": "markdown",
   "metadata": {},
   "source": [
    "## Result visualization"
   ]
  },
  {
   "cell_type": "code",
   "execution_count": 79,
   "metadata": {},
   "outputs": [],
   "source": [
    "y_predict = RandomForestClassifier(n_estimators=50, random_state=0).fit(histogram_train, y_train).predict(histogram_test)"
   ]
  },
  {
   "cell_type": "code",
   "execution_count": 80,
   "metadata": {},
   "outputs": [
    {
     "name": "stdout",
     "output_type": "stream",
     "text": [
      "2 1 1\n"
     ]
    },
    {
     "data": {
      "text/plain": [
       "Text(0.5, 1.0, 'TP: true positive')"
      ]
     },
     "execution_count": 80,
     "metadata": {},
     "output_type": "execute_result"
    },
    {
     "data": {
      "image/png": "[encoded data removed]",
      "text/plain": [
       "<Figure size 432x288 with 1 Axes>"
      ]
     },
     "metadata": {
      "needs_background": "light"
     },
     "output_type": "display_data"
    }
   ],
   "source": [
    "# TP: true positive\n",
    "for i in range(len(y_predict)):\n",
    "    if y_predict[i] == 1 and y_test[i] == 1:\n",
    "        break\n",
    "print(i, y_predict[i], y_test[i]) \n",
    "\n",
    "clf.predict(histogram_test[i:i+1])\n",
    "plt.plot(per_midi_res_test[i], label=\"singing\")\n",
    "plt.plot(ref_midi_res_test[i], label=\"piano\")\n",
    "plt.legend()\n",
    "plt.title('TP: true positive')"
   ]
  },
  {
   "cell_type": "code",
   "execution_count": 82,
   "metadata": {},
   "outputs": [
    {
     "name": "stdout",
     "output_type": "stream",
     "text": [
      "0 0 0\n"
     ]
    },
    {
     "data": {
      "text/plain": [
       "Text(0.5, 1.0, 'TN: true negative')"
      ]
     },
     "execution_count": 82,
     "metadata": {},
     "output_type": "execute_result"
    },
    {
     "data": {
      "image/png": "[encoded data removed]",
      "text/plain": [
       "<Figure size 432x288 with 1 Axes>"
      ]
     },
     "metadata": {
      "needs_background": "light"
     },
     "output_type": "display_data"
    }
   ],
   "source": [
    "# TN: true negative\n",
    "for i in range(len(y_predict)):\n",
    "    if y_predict[i] == 0 and y_test[i] == 0:\n",
    "        break\n",
    "print(i, y_predict[i], y_test[i]) \n",
    "\n",
    "clf.predict(histogram_test[i:i+1])\n",
    "plt.plot(per_midi_res_test[i], label=\"singing\")\n",
    "plt.plot(ref_midi_res_test[i], label=\"piano\")\n",
    "plt.legend()\n",
    "plt.title('TN: true negative')"
   ]
  },
  {
   "cell_type": "code",
   "execution_count": 86,
   "metadata": {},
   "outputs": [
    {
     "name": "stdout",
     "output_type": "stream",
     "text": [
      "5 1 0\n"
     ]
    },
    {
     "data": {
      "text/plain": [
       "Text(0.5, 1.0, 'FP: false positive')"
      ]
     },
     "execution_count": 86,
     "metadata": {},
     "output_type": "execute_result"
    },
    {
     "data": {
      "image/png": "[encoded data removed]",
      "text/plain": [
       "<Figure size 432x288 with 1 Axes>"
      ]
     },
     "metadata": {
      "needs_background": "light"
     },
     "output_type": "display_data"
    }
   ],
   "source": [
    "# FP: false positive\n",
    "for i in range(len(y_predict)):\n",
    "    if y_predict[i] == 1 and y_test[i] == 0:\n",
    "        break\n",
    "print(i, y_predict[i], y_test[i]) \n",
    "\n",
    "clf.predict(histogram_test[i:i+1])\n",
    "plt.plot(per_midi_res_test[i], label=\"singing\")\n",
    "plt.plot(ref_midi_res_test[i], label=\"piano\")\n",
    "plt.legend()\n",
    "plt.title('FP: false positive')"
   ]
  },
  {
   "cell_type": "code",
   "execution_count": 87,
   "metadata": {},
   "outputs": [
    {
     "name": "stdout",
     "output_type": "stream",
     "text": [
      "6 0 1\n"
     ]
    },
    {
     "data": {
      "text/plain": [
       "Text(0.5, 1.0, 'FN: false negative')"
      ]
     },
     "execution_count": 87,
     "metadata": {},
     "output_type": "execute_result"
    },
    {
     "data": {
      "image/png": "[encoded data removed]",
      "text/plain": [
       "<Figure size 432x288 with 1 Axes>"
      ]
     },
     "metadata": {
      "needs_background": "light"
     },
     "output_type": "display_data"
    }
   ],
   "source": [
    "# FN: false negative\n",
    "for i in range(len(y_predict)):\n",
    "    if y_predict[i] == 0 and y_test[i] == 1:\n",
    "        break\n",
    "print(i, y_predict[i], y_test[i]) \n",
    "\n",
    "clf.predict(histogram_test[i:i+1])\n",
    "plt.plot(per_midi_res_test[i], label=\"singing\")\n",
    "plt.plot(ref_midi_res_test[i], label=\"piano\")\n",
    "plt.legend()\n",
    "plt.title('FN: false negative')"
   ]
  },
  {
   "cell_type": "code",
   "execution_count": null,
   "metadata": {},
   "outputs": [],
   "source": []
  }
 ],
 "metadata": {
  "kernelspec": {
   "display_name": "Python 3",
   "language": "python",
   "name": "python3"
  },
  "language_info": {
   "codemirror_mode": {
    "name": "ipython",
    "version": 3
   },
   "file_extension": ".py",
   "mimetype": "text/x-python",
   "name": "python",
   "nbconvert_exporter": "python",
   "pygments_lexer": "ipython3",
   "version": "3.7.4"
  }
 },
 "nbformat": 4,
 "nbformat_minor": 2
}
