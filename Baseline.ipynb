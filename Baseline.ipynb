{
 "cells": [
  {
   "cell_type": "code",
   "execution_count": 1,
   "metadata": {},
   "outputs": [],
   "source": [
    "import numpy as np\n",
    "import pandas as pd\n",
    "import os\n",
    "from matplotlib import pyplot as plt\n",
    "%matplotlib inline"
   ]
  },
  {
   "cell_type": "code",
   "execution_count": 2,
   "metadata": {},
   "outputs": [
    {
     "name": "stdout",
     "output_type": "stream",
     "text": [
      "Number of pass:  266\n",
      "Number of fail:  730\n",
      "Number of performances:  996\n",
      "Number of reference:  2542\n"
     ]
    }
   ],
   "source": [
    "# read files\n",
    "datapath = './f0data'\n",
    "per_fail = []\n",
    "per_pass = []\n",
    "ref = []\n",
    "\n",
    "for i in os.listdir(datapath):\n",
    "    if i.endswith('pass.f0s.txt'):\n",
    "        per_pass.append(datapath + '/' + i)\n",
    "    elif i.endswith('fail.f0s.txt'):\n",
    "        per_fail.append(datapath + '/' + i)\n",
    "    else:\n",
    "        ref.append(datapath + '/' + i)\n",
    "\n",
    "# file name lists\n",
    "per_pass = sorted(per_pass) # 266\n",
    "per_fail = sorted(per_fail) # 730\n",
    "ref = sorted(ref) # 2542\n",
    "\n",
    "num_pass = len(per_pass)\n",
    "num_fail = len(per_fail)\n",
    "num_per = num_pass + num_fail\n",
    "num_ref = len(ref)\n",
    "\n",
    "print(\"Number of pass: \", num_pass)\n",
    "print(\"Number of fail: \", num_fail)\n",
    "print(\"Number of performances: \", num_per)\n",
    "print(\"Number of reference: \", num_ref)"
   ]
  },
  {
   "cell_type": "code",
   "execution_count": 17,
   "metadata": {},
   "outputs": [],
   "source": [
    "# randomly choose 266 from 730 fails\n",
    "pick = np.random.choice(num_fail, num_pass, replace=False)\n",
    "pick = sorted(pick)\n",
    "\n",
    "per_fail_pick = np.array(per_fail)[pick] # 266 fail file name lists\n",
    "per_filename = np.concatenate((per_pass, per_fail_pick)) # 532 performance file name lists"
   ]
  },
  {
   "cell_type": "code",
   "execution_count": 15,
   "metadata": {},
   "outputs": [],
   "source": [
    "# performance f0 data\n",
    "# only second column f0 data\n",
    "# trim zeros from beginning and end\n",
    "pass_f0 = [np.trim_zeros(np.loadtxt(file)[:,1]) for file in per_pass]\n",
    "pass_f0 = np.array(pass_f0,dtype='object')\n",
    "fail_f0 = [np.trim_zeros(np.loadtxt(file)[:,1]) for file in per_fail_pick]\n",
    "fail_f0 = np.array(fail_f0,dtype='object')\n",
    "\n",
    "per_f0 = np.concatenate((pass_f0, fail_f0)) # 532 performance f0"
   ]
  },
  {
   "cell_type": "code",
   "execution_count": 20,
   "metadata": {},
   "outputs": [],
   "source": [
    "# create matching reference file name list\n",
    "# find 532 reference files that pair with 532 performances\n",
    "new_ref = ref.copy()\n",
    "ref_match = [] # 532 reference file name list\n",
    "\n",
    "for i in per_filename:\n",
    "    identifier = i.split('per')[0]\n",
    "    for j in new_ref:\n",
    "        if j.split('ref')[0] == identifier:\n",
    "            ref_match.append(j)\n",
    "            new_ref.remove(j)\n",
    "            break"
   ]
  },
  {
   "cell_type": "code",
   "execution_count": 26,
   "metadata": {},
   "outputs": [],
   "source": [
    "# reference f0 data\n",
    "# only second column f0 data\n",
    "# trim zeros from beginning and end\n",
    "ref_f0 = [np.trim_zeros(np.loadtxt(file)[:,1]) for file in ref_match]\n",
    "ref_f0 = np.array(ref_f0,dtype='object') # 532 performance f0"
   ]
  },
  {
   "cell_type": "code",
   "execution_count": 72,
   "metadata": {},
   "outputs": [],
   "source": [
    "# convert f0 to midi (0hz stays 0 in midi)\n",
    "# https://stackoverflow.com/questions/21752989/numpy-efficiently-avoid-0s-when-taking-logmatrix\n",
    "\n",
    "per_midi = np.copy(per_f0)\n",
    "for i, f0 in enumerate(per_f0):\n",
    "    per_midi[i] = 12 * np.ma.log2(f0/440) + 69\n",
    "    per_midi[i] = per_midi[i].filled(0) # 532 ref midi\n",
    "    \n",
    "ref_midi = np.copy(ref_f0)\n",
    "for i, f0 in enumerate(ref_f0):\n",
    "    ref_midi[i] = 12 * np.ma.log2(f0/440) + 69\n",
    "    ref_midi[i] = ref_midi[i].filled(0) # 532 ref midi"
   ]
  },
  {
   "cell_type": "code",
   "execution_count": 76,
   "metadata": {},
   "outputs": [
    {
     "name": "stdout",
     "output_type": "stream",
     "text": [
      "average length for performances f0:  1643\n",
      "average length for references f0:  1790\n",
      "average length f0:  1716\n"
     ]
    }
   ],
   "source": [
    "# average lenghth of data\n",
    "length = 0\n",
    "for i,file in enumerate(per_f0):\n",
    "    length += len(file)\n",
    "avg_len_per = int(length/i)\n",
    "print(\"average length for performances f0: \", avg_len_per)\n",
    "\n",
    "length = 0\n",
    "for i,file in enumerate(ref_f0):\n",
    "    length += len(file)\n",
    "avg_len_ref = int(length/i)\n",
    "print(\"average length for references f0: \", avg_len_ref)\n",
    "\n",
    "avg_len = int((avg_len_per + avg_len_ref)/2)\n",
    "print(\"average length f0: \", avg_len)"
   ]
  },
  {
   "cell_type": "code",
   "execution_count": 156,
   "metadata": {},
   "outputs": [],
   "source": [
    "# resample performance and reference to average length\n",
    "per_midi_res = np.copy(per_midi)\n",
    "for i, item in enumerate(per_midi):\n",
    "    xp = np.arange(len(item))\n",
    "    fp = item\n",
    "    per_midi_res[i] = np.interp(np.linspace(0,len(item)-1,num=avg_len), xp, fp)\n",
    "    \n",
    "ref_midi_res = np.copy(ref_midi)\n",
    "for i, item in enumerate(ref_midi):\n",
    "    xp = np.arange(len(item))\n",
    "    fp = item\n",
    "    ref_midi_res[i] = np.interp(np.linspace(0,len(item)-1,num=avg_len), xp, fp)"
   ]
  },
  {
   "cell_type": "code",
   "execution_count": 201,
   "metadata": {},
   "outputs": [],
   "source": [
    "# create labels\n",
    "label = []\n",
    "for i in range(num_pass):\n",
    "    label.append(1)\n",
    "for i in range(num_pass):\n",
    "    label.append(0)"
   ]
  },
  {
   "cell_type": "code",
   "execution_count": 204,
   "metadata": {},
   "outputs": [],
   "source": [
    "# train test split\n",
    "# from sklearn.model_selection import train_test_split\n",
    "# X_train, X_test, y_train, y_test = train_test_split(\n",
    "#     histogram, label, test_size=0.33, random_state=42)\n",
    "num_data = len(per_midi_res) # 532\n",
    "shuffle = np.random.permutation(num_data)\n",
    "num_train = int(num_data * 0.8)\n",
    "\n",
    "# training\n",
    "per_midi_train = per_midi_res[shuffle][:num_train] # performance midi for training\n",
    "ref_midi_train = ref_midi_res[shuffle][:num_train] # reference midi for training\n",
    "y_train = np.array(label)[shuffle][:num_train] # training label\n",
    "\n",
    "\n",
    "# testing\n",
    "per_midi_test = per_midi_res[shuffle][num_train:] # performance midi for testing\n",
    "ref_midi_test = ref_midi_res[shuffle][num_train:] # reference midi for testing\n",
    "y_test = np.array(label)[shuffle][num_train:] # testing label"
   ]
  },
  {
   "cell_type": "code",
   "execution_count": 205,
   "metadata": {},
   "outputs": [
    {
     "name": "stdout",
     "output_type": "stream",
     "text": [
      "-74.56000038184786\n",
      "71.10999964375398\n"
     ]
    }
   ],
   "source": [
    "# distance signal train\n",
    "distance_train = np.stack(ref_midi_train - per_midi_train)\n",
    "print(np.min(distance))\n",
    "print(np.max(distance))\n",
    "\n",
    "# distance signal test\n",
    "distance_test = np.stack(ref_midi_test - per_midi_test)"
   ]
  },
  {
   "cell_type": "code",
   "execution_count": 206,
   "metadata": {},
   "outputs": [],
   "source": [
    "# histogram train\n",
    "bins = np.linspace(np.floor(np.min(distance)), np.ceil(np.max(distance)), num=150)\n",
    "histogram_train = [np.histogram(i, bins=bins)[0] for i in distance_train]\n",
    "\n",
    "# histogram test\n",
    "histogram_test = [np.histogram(i, bins=bins)[0] for i in distance_test]"
   ]
  },
  {
   "cell_type": "code",
   "execution_count": 208,
   "metadata": {},
   "outputs": [
    {
     "name": "stdout",
     "output_type": "stream",
     "text": [
      "Logistic Regression: unbalanced data\n",
      "\n",
      "train accuracy:  0.9670588235294117\n",
      "\n",
      "test accuracy:  0.8411214953271028\n",
      "test f1-score macro:  0.8408991515787633\n",
      "test f1-score micro:  0.8411214953271028\n",
      "\n",
      "Confusion matrix: \n",
      " [[47 10]\n",
      " [ 7 43]]\n"
     ]
    },
    {
     "name": "stderr",
     "output_type": "stream",
     "text": [
      "/Users/Christine/opt/anaconda3/lib/python3.7/site-packages/sklearn/linear_model/logistic.py:432: FutureWarning: Default solver will be changed to 'lbfgs' in 0.22. Specify a solver to silence this warning.\n",
      "  FutureWarning)\n"
     ]
    }
   ],
   "source": [
    "# logistic regression\n",
    "from sklearn.linear_model import LogisticRegression\n",
    "clf = LogisticRegression(random_state=1).fit(histogram_train, y_train)\n",
    "\n",
    "print(\"Logistic Regression: unbalanced data\\n\")\n",
    "print(\"train accuracy: \", clf.score(histogram_train, y_train))\n",
    "print(\"\\ntest accuracy: \", clf.score(histogram_test, y_test))\n",
    "y_pred = clf.predict(histogram_test)\n",
    "\n",
    "from sklearn.metrics import accuracy_score, f1_score\n",
    "print(\"test f1-score macro: \", f1_score(y_test, y_pred, average='macro'))\n",
    "print(\"test f1-score micro: \", f1_score(y_test, y_pred, average='micro'))\n",
    "\n",
    "from sklearn.metrics import confusion_matrix\n",
    "cm = confusion_matrix(y_test, y_pred)\n",
    "print(\"\\nConfusion matrix: \\n\", cm)"
   ]
  },
  {
   "cell_type": "code",
   "execution_count": 210,
   "metadata": {},
   "outputs": [
    {
     "name": "stdout",
     "output_type": "stream",
     "text": [
      "Logistic Regression CV: balanced data\n",
      "\n",
      "train accuracy:  0.9176470588235294\n",
      "\n",
      "test accuracy:  0.8878504672897196\n",
      "test f1-score macro:  0.8878406708595388\n",
      "test f1-score micro:  0.8878504672897196\n",
      "\n",
      "Confusion matrix: \n",
      " [[47 10]\n",
      " [ 2 48]]\n"
     ]
    }
   ],
   "source": [
    "# logistic regression cross validation\n",
    "from sklearn.linear_model import LogisticRegressionCV\n",
    "clf = LogisticRegressionCV(cv=5, random_state=1, max_iter = 1000, solver = 'liblinear').fit(histogram_train, y_train)\n",
    "\n",
    "print(\"Logistic Regression CV: balanced data\\n\")\n",
    "print(\"train accuracy: \", clf.score(histogram_train, y_train))\n",
    "print(\"\\ntest accuracy: \", clf.score(histogram_test, y_test))\n",
    "y_pred = clf.predict(histogram_test)\n",
    "\n",
    "from sklearn.metrics import accuracy_score, f1_score\n",
    "# accuracy_score(y_test, y_pred)\n",
    "print(\"test f1-score macro: \", f1_score(y_test, y_pred, average='macro'))\n",
    "print(\"test f1-score micro: \", f1_score(y_test, y_pred, average='micro'))\n",
    "\n",
    "from sklearn.metrics import confusion_matrix\n",
    "cm = confusion_matrix(y_test, y_pred)\n",
    "print(\"\\nConfusion matrix: \\n\", cm)"
   ]
  },
  {
   "cell_type": "code",
   "execution_count": null,
   "metadata": {},
   "outputs": [],
   "source": []
  }
 ],
 "metadata": {
  "kernelspec": {
   "display_name": "Python 3",
   "language": "python",
   "name": "python3"
  },
  "language_info": {
   "codemirror_mode": {
    "name": "ipython",
    "version": 3
   },
   "file_extension": ".py",
   "mimetype": "text/x-python",
   "name": "python",
   "nbconvert_exporter": "python",
   "pygments_lexer": "ipython3",
   "version": "3.7.4"
  }
 },
 "nbformat": 4,
 "nbformat_minor": 2
}
